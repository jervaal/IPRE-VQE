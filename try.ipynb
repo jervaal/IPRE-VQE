{
 "cells": [
  {
   "cell_type": "markdown",
   "metadata": {},
   "source": [
    "# Intro a Qiskit"
   ]
  },
  {
   "cell_type": "code",
   "execution_count": 4,
   "metadata": {},
   "outputs": [],
   "source": [
    "from qiskit.circuit import QuantumCircuit, QuantumRegister, ClassicalRegister"
   ]
  },
  {
   "cell_type": "code",
   "execution_count": 15,
   "metadata": {},
   "outputs": [
    {
     "data": {
      "image/png": "[encoded data removed]",
      "text/plain": [
       "<Figure size 287.496x451.5 with 1 Axes>"
      ]
     },
     "execution_count": 15,
     "metadata": {},
     "output_type": "execute_result"
    }
   ],
   "source": [
    "qc = QuantumCircuit(5)\n",
    "qc.x(range(2))\n",
    "qc.ccx(0, 1, target_qubit= 3)\n",
    "qc.h(2)\n",
    "qc.draw('mpl')\n",
    "\n"
   ]
  },
  {
   "cell_type": "code",
   "execution_count": 19,
   "metadata": {},
   "outputs": [
    {
     "data": {
      "image/png": "[encoded data removed]",
      "text/plain": [
       "<Figure size 287.294x200.667 with 1 Axes>"
      ]
     },
     "execution_count": 19,
     "metadata": {},
     "output_type": "execute_result"
    }
   ],
   "source": [
    "from qiskit.quantum_info import Statevector, DensityMatrix\n",
    "\n",
    "qc = QuantumCircuit(2)\n",
    "\n",
    "qc.h(0)\n",
    "qc.cx(0, 1)\n",
    "\n",
    "qc.draw('mpl')"
   ]
  },
  {
   "cell_type": "code",
   "execution_count": 20,
   "metadata": {},
   "outputs": [
    {
     "data": {
      "text/latex": [
       "$$\n",
       "\n",
       "\\begin{bmatrix}\n",
       "\\frac{1}{2} & 0 & 0 & \\frac{1}{2}  \\\\\n",
       " 0 & 0 & 0 & 0  \\\\\n",
       " 0 & 0 & 0 & 0  \\\\\n",
       " \\frac{1}{2} & 0 & 0 & \\frac{1}{2}  \\\\\n",
       " \\end{bmatrix}\n",
       "$$"
      ],
      "text/plain": [
       "<IPython.core.display.Latex object>"
      ]
     },
     "execution_count": 20,
     "metadata": {},
     "output_type": "execute_result"
    }
   ],
   "source": [
    "DensityMatrix(qc).draw('latex')"
   ]
  },
  {
   "cell_type": "code",
   "execution_count": 44,
   "metadata": {},
   "outputs": [],
   "source": [
    "from qiskit_nature.second_q.drivers import PySCFDriver\n",
    "\n",
    "driver = PySCFDriver(atom= 'H 0 0 0 ; H 0 0 0.7')\n",
    "\n",
    "problema = driver.run()\n",
    "\n",
    "\n",
    "fermionic_op = problema.hamiltonian.second_q_op()"
   ]
  },
  {
   "cell_type": "markdown",
   "metadata": {},
   "source": [
    "$$\\hat{H} = \\sum_{ij} h_{ij} a^{\\dagger}_i a_j + \\cdots$$"
   ]
  },
  {
   "cell_type": "code",
   "execution_count": 45,
   "metadata": {},
   "outputs": [
    {
     "data": {
      "text/plain": [
       "SparsePauliOp(['IIII', 'IIIZ', 'IIZI', 'IZII', 'ZIII', 'IIZZ', 'IZIZ', 'ZIIZ', 'YYYY', 'XXYY', 'YYXX', 'XXXX', 'IZZI', 'ZIZI', 'ZZII'],\n",
       "              coeffs=[-0.79804642+0.j,  0.17771287+0.j, -0.24274281+0.j,  0.17771287+0.j,\n",
       " -0.24274281+0.j,  0.12293305+0.j,  0.17059738+0.j,  0.16768319+0.j,\n",
       "  0.04475014+0.j,  0.04475014+0.j,  0.04475014+0.j,  0.04475014+0.j,\n",
       "  0.16768319+0.j,  0.17627641+0.j,  0.12293305+0.j])"
      ]
     },
     "execution_count": 45,
     "metadata": {},
     "output_type": "execute_result"
    }
   ],
   "source": [
    "from qiskit_nature.second_q.mappers import  JordanWignerMapper\n",
    "\n",
    "\n",
    "mapper = JordanWignerMapper()\n",
    "\n",
    "sparse_pauli_ham = mapper.map(fermionic_op)\n",
    "\n",
    "sparse_pauli_ham\n"
   ]
  },
  {
   "cell_type": "code",
   "execution_count": 50,
   "metadata": {},
   "outputs": [],
   "source": [
    "from qiskit_nature.second_q.circuit.library import UCCSD, HartreeFock\n",
    "\n",
    "init_state = HartreeFock(num_spatial_orbitals= problema.num_spatial_orbitals,\n",
    "            num_particles= problema.num_particles,\n",
    "            qubit_mapper= mapper)\n",
    "\n",
    "#init_state.draw('mpl')\n",
    "\n",
    "\n",
    "ansatz = UCCSD(\n",
    "    2,\n",
    "    problema.num_particles,\n",
    "    mapper,\n",
    "    initial_state=HartreeFock(\n",
    "        problema.num_spatial_orbitals,\n",
    "        problema.num_particles,\n",
    "        mapper,\n",
    "    ),\n",
    ")\n",
    "\n",
    "#ansatz.decompose(reps=4).draw('mpl')"
   ]
  },
  {
   "cell_type": "code",
   "execution_count": 55,
   "metadata": {},
   "outputs": [],
   "source": [
    "import numpy as np\n",
    "from qiskit_algorithms import VQE\n",
    "from qiskit_algorithms.optimizers import SLSQP\n",
    "from qiskit.primitives import Estimator\n",
    "\n",
    "\n",
    "\n",
    "vqe = VQE(Estimator(), ansatz, SLSQP())\n",
    "\n",
    "from qiskit_nature.second_q.algorithms.initial_points import HFInitialPoint\n",
    "\n",
    "\n",
    "initial_point = HFInitialPoint()\n",
    "initial_point.ansatz = ansatz\n",
    "initial_point.problem = problema\n",
    "vqe.initial_point = initial_point.to_numpy_array()\n"
   ]
  },
  {
   "cell_type": "code",
   "execution_count": 60,
   "metadata": {},
   "outputs": [
    {
     "name": "stdout",
     "output_type": "stream",
     "text": [
      "Total ground state energy = -1.1362\n"
     ]
    }
   ],
   "source": [
    "from qiskit_nature.second_q.algorithms import GroundStateEigensolver\n",
    "solver = GroundStateEigensolver(mapper, vqe)\n",
    "result = solver.solve(problema)\n",
    "\n",
    "print(f\"Total ground state energy = {result.total_energies[0]:.4f}\")"
   ]
  },
  {
   "cell_type": "code",
   "execution_count": 74,
   "metadata": {},
   "outputs": [],
   "source": [
    "distances = np.arange(0.5, 1, 0.01)\n",
    "\n",
    "energies = np.zeros(len(distances))\n",
    "\n",
    "#from qiskit_aer import AerSimulator\n",
    "#from qiskit_aer.primitives import Estimator as AerEstimator\n",
    "\n",
    "for i, d in enumerate(distances):\n",
    "    #iniciamos el problema\n",
    "    driver = PySCFDriver(atom= f'H 0 0 0 ; H 0 0 {d}')\n",
    "    problema = driver.run()\n",
    "    fermionic_op = problema.hamiltonian.second_q_op()\n",
    "    \n",
    "    #mapeamos\n",
    "    mapper = JordanWignerMapper()\n",
    "\n",
    "    sparse_pauli_ham = mapper.map(fermionic_op)\n",
    "\n",
    "    init_state = HartreeFock(num_spatial_orbitals= problema.num_spatial_orbitals,\n",
    "            num_particles= problema.num_particles,\n",
    "            qubit_mapper= mapper)\n",
    "\n",
    "#init_state.draw('mpl')\n",
    "\n",
    "\n",
    "    ansatz = UCCSD(\n",
    "        2,\n",
    "        problema.num_particles,\n",
    "        mapper,\n",
    "        initial_state=HartreeFock(\n",
    "            problema.num_spatial_orbitals,\n",
    "            problema.num_particles,\n",
    "            mapper,\n",
    "        ),\n",
    "    )\n",
    "\n",
    "\n",
    "    vqe = VQE(Estimator(), ansatz, SLSQP())\n",
    "\n",
    "\n",
    "    initial_point = HFInitialPoint()\n",
    "    initial_point.ansatz = ansatz\n",
    "    initial_point.problem = problema\n",
    "    vqe.initial_point = initial_point.to_numpy_array()\n",
    "\n",
    "    solver = GroundStateEigensolver(mapper, vqe)\n",
    "    result = solver.solve(problema)\n",
    "\n",
    "    energies[i] = result.total_energies[0]\n",
    "    #"
   ]
  },
  {
   "cell_type": "code",
   "execution_count": 75,
   "metadata": {},
   "outputs": [
    {
     "data": {
      "text/plain": [
       "[<matplotlib.lines.Line2D at 0x77300c1037d0>]"
      ]
     },
     "execution_count": 75,
     "metadata": {},
     "output_type": "execute_result"
    },
    {
     "data": {
      "image/png": "[encoded data removed]",
      "text/plain": [
       "<Figure size 640x480 with 1 Axes>"
      ]
     },
     "metadata": {},
     "output_type": "display_data"
    }
   ],
   "source": [
    "import matplotlib.pyplot as plt\n",
    "\n",
    "plt.scatter(distances[:], energies[:])\n",
    "plt.plot(distances[:], energies[:])\n",
    "\n"
   ]
  },
  {
   "cell_type": "code",
   "execution_count": null,
   "metadata": {},
   "outputs": [],
   "source": []
  }
 ],
 "metadata": {
  "kernelspec": {
   "display_name": "Python 3",
   "language": "python",
   "name": "python3"
  },
  "language_info": {
   "codemirror_mode": {
    "name": "ipython",
    "version": 3
   },
   "file_extension": ".py",
   "mimetype": "text/x-python",
   "name": "python",
   "nbconvert_exporter": "python",
   "pygments_lexer": "ipython3",
   "version": "3.11.9"
  }
 },
 "nbformat": 4,
 "nbformat_minor": 2
}

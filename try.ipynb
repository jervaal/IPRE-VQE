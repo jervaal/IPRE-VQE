{
 "cells": [
  {
   "cell_type": "markdown",
   "metadata": {},
   "source": [
    "# Intro a Qiskit"
   ]
  },
  {
   "cell_type": "code",
   "execution_count": 1,
   "metadata": {},
   "outputs": [],
   "source": [
    "from qiskit.circuit import QuantumCircuit, QuantumRegister, ClassicalRegister"
   ]
  },
  {
   "cell_type": "code",
   "execution_count": 3,
   "metadata": {},
   "outputs": [
    {
     "data": {
      "image/png": "[encoded data removed]",
      "text/plain": [
       "<Figure size 287.496x451.5 with 1 Axes>"
      ]
     },
     "execution_count": 3,
     "metadata": {},
     "output_type": "execute_result"
    }
   ],
   "source": [
    "qc = QuantumCircuit(5)\n",
    "qc.x(range(2))\n",
    "qc.ccx(0, 1, target_qubit= 3)\n",
    "qc.h(2)\n",
    "qc.draw('mpl')\n",
    "\n"
   ]
  },
  {
   "cell_type": "code",
   "execution_count": 4,
   "metadata": {},
   "outputs": [
    {
     "data": {
      "image/png": "[encoded data removed]",
      "text/plain": [
       "<Figure size 287.294x200.667 with 1 Axes>"
      ]
     },
     "execution_count": 4,
     "metadata": {},
     "output_type": "execute_result"
    }
   ],
   "source": [
    "from qiskit.quantum_info import Statevector, DensityMatrix\n",
    "\n",
    "qc = QuantumCircuit(2)\n",
    "\n",
    "qc.h(0)\n",
    "qc.cx(0, 1)\n",
    "\n",
    "qc.draw('mpl')"
   ]
  },
  {
   "cell_type": "code",
   "execution_count": 5,
   "metadata": {},
   "outputs": [
    {
     "data": {
      "text/latex": [
       "$$\n",
       "\n",
       "\\begin{bmatrix}\n",
       "\\frac{1}{2} & 0 & 0 & \\frac{1}{2}  \\\\\n",
       " 0 & 0 & 0 & 0  \\\\\n",
       " 0 & 0 & 0 & 0  \\\\\n",
       " \\frac{1}{2} & 0 & 0 & \\frac{1}{2}  \\\\\n",
       " \\end{bmatrix}\n",
       "$$"
      ],
      "text/plain": [
       "<IPython.core.display.Latex object>"
      ]
     },
     "execution_count": 5,
     "metadata": {},
     "output_type": "execute_result"
    }
   ],
   "source": [
    "DensityMatrix(qc).draw('latex')"
   ]
  },
  {
   "cell_type": "code",
   "execution_count": 6,
   "metadata": {},
   "outputs": [],
   "source": [
    "from qiskit_nature.second_q.drivers import PySCFDriver\n",
    "\n",
    "driver = PySCFDriver(atom= 'H 0 0 0 ; H 0 0 0.7')\n",
    "\n",
    "problema = driver.run()\n",
    "\n",
    "\n",
    "fermionic_op = problema.hamiltonian.second_q_op()"
   ]
  },
  {
   "cell_type": "markdown",
   "metadata": {},
   "source": [
    "$$\\hat{H} = \\sum_{ij} h_{ij} a^{\\dagger}_i a_j + \\cdots$$"
   ]
  },
  {
   "cell_type": "code",
   "execution_count": 7,
   "metadata": {},
   "outputs": [
    {
     "data": {
      "text/plain": [
       "SparsePauliOp(['IIII', 'IIIZ', 'IIZI', 'IZII', 'ZIII', 'IIZZ', 'IZIZ', 'ZIIZ', 'YYYY', 'XXYY', 'YYXX', 'XXXX', 'IZZI', 'ZIZI', 'ZZII'],\n",
       "              coeffs=[-0.79804642+0.j,  0.17771287+0.j, -0.24274281+0.j,  0.17771287+0.j,\n",
       " -0.24274281+0.j,  0.12293305+0.j,  0.17059738+0.j,  0.16768319+0.j,\n",
       "  0.04475014+0.j,  0.04475014+0.j,  0.04475014+0.j,  0.04475014+0.j,\n",
       "  0.16768319+0.j,  0.17627641+0.j,  0.12293305+0.j])"
      ]
     },
     "execution_count": 7,
     "metadata": {},
     "output_type": "execute_result"
    }
   ],
   "source": [
    "from qiskit_nature.second_q.mappers import  JordanWignerMapper\n",
    "\n",
    "\n",
    "mapper = JordanWignerMapper()\n",
    "\n",
    "sparse_pauli_ham = mapper.map(fermionic_op)\n",
    "\n",
    "sparse_pauli_ham\n"
   ]
  },
  {
   "cell_type": "code",
   "execution_count": 8,
   "metadata": {},
   "outputs": [],
   "source": [
    "from qiskit_nature.second_q.circuit.library import UCCSD, HartreeFock\n",
    "\n",
    "init_state = HartreeFock(num_spatial_orbitals= problema.num_spatial_orbitals,\n",
    "            num_particles= problema.num_particles,\n",
    "            qubit_mapper= mapper)\n",
    "\n",
    "#init_state.draw('mpl')\n",
    "\n",
    "\n",
    "ansatz = UCCSD(\n",
    "    2,\n",
    "    problema.num_particles,\n",
    "    mapper,\n",
    "    initial_state=HartreeFock(\n",
    "        problema.num_spatial_orbitals,\n",
    "        problema.num_particles,\n",
    "        mapper,\n",
    "    ),\n",
    ")\n",
    "\n",
    "#ansatz.decompose(reps=4).draw('mpl')"
   ]
  },
  {
   "cell_type": "code",
   "execution_count": 9,
   "metadata": {},
   "outputs": [],
   "source": [
    "import numpy as np\n",
    "from qiskit_algorithms import VQE\n",
    "from qiskit_algorithms.optimizers import SLSQP\n",
    "from qiskit.primitives import Estimator\n",
    "\n",
    "\n",
    "\n",
    "vqe = VQE(Estimator(), ansatz, SLSQP())\n",
    "\n",
    "from qiskit_nature.second_q.algorithms.initial_points import HFInitialPoint\n",
    "\n",
    "\n",
    "initial_point = HFInitialPoint()\n",
    "initial_point.ansatz = ansatz\n",
    "initial_point.problem = problema\n",
    "vqe.initial_point = initial_point.to_numpy_array()\n"
   ]
  },
  {
   "cell_type": "code",
   "execution_count": 10,
   "metadata": {},
   "outputs": [
    {
     "name": "stdout",
     "output_type": "stream",
     "text": [
      "Total ground state energy = -1.1362\n"
     ]
    }
   ],
   "source": [
    "from qiskit_nature.second_q.algorithms import GroundStateEigensolver\n",
    "solver = GroundStateEigensolver(mapper, vqe)\n",
    "result = solver.solve(problema)\n",
    "\n",
    "print(f\"Total ground state energy = {result.total_energies[0]:.4f}\")"
   ]
  },
  {
   "cell_type": "code",
   "execution_count": 11,
   "metadata": {},
   "outputs": [],
   "source": [
    "distances = np.arange(0.5, 1, 0.01)\n",
    "\n",
    "energies = np.zeros(len(distances))\n",
    "\n",
    "#from qiskit_aer import AerSimulator\n",
    "#from qiskit_aer.primitives import Estimator as AerEstimator\n",
    "\n",
    "for i, d in enumerate(distances):\n",
    "    #iniciamos el problema\n",
    "    driver = PySCFDriver(atom= f'H 0 0 0 ; H 0 0 {d}')\n",
    "    problema = driver.run()\n",
    "    fermionic_op = problema.hamiltonian.second_q_op()\n",
    "    \n",
    "    #mapeamos\n",
    "    mapper = JordanWignerMapper()\n",
    "\n",
    "    sparse_pauli_ham = mapper.map(fermionic_op)\n",
    "\n",
    "    init_state = HartreeFock(num_spatial_orbitals= problema.num_spatial_orbitals,\n",
    "            num_particles= problema.num_particles,\n",
    "            qubit_mapper= mapper)\n",
    "\n",
    "#init_state.draw('mpl')\n",
    "\n",
    "\n",
    "    ansatz = UCCSD(\n",
    "        2,\n",
    "        problema.num_particles,\n",
    "        mapper,\n",
    "        initial_state=HartreeFock(\n",
    "            problema.num_spatial_orbitals,\n",
    "            problema.num_particles,\n",
    "            mapper,\n",
    "        ),\n",
    "    )\n",
    "\n",
    "\n",
    "    vqe = VQE(Estimator(), ansatz, SLSQP())\n",
    "\n",
    "\n",
    "    initial_point = HFInitialPoint()\n",
    "    initial_point.ansatz = ansatz\n",
    "    initial_point.problem = problema\n",
    "    vqe.initial_point = initial_point.to_numpy_array()\n",
    "\n",
    "    solver = GroundStateEigensolver(mapper, vqe)\n",
    "    result = solver.solve(problema)\n",
    "\n",
    "    energies[i] = result.total_energies[0]\n",
    "    #"
   ]
  },
  {
   "cell_type": "code",
   "execution_count": 12,
   "metadata": {},
   "outputs": [
    {
     "data": {
      "image/png": "[encoded data removed]",
      "text/plain": [
       "<Figure size 640x480 with 1 Axes>"
      ]
     },
     "metadata": {},
     "output_type": "display_data"
    }
   ],
   "source": [
    "import matplotlib.pyplot as plt\n",
    "\n",
    "plt.scatter(distances[:], energies[:])\n",
    "plt.plot(distances[:], energies[:])\n",
    "\n",
    "minimo = np.min(energies)"
   ]
  },
  {
   "cell_type": "code",
   "execution_count": 13,
   "metadata": {},
   "outputs": [
    {
     "data": {
      "text/plain": [
       "(array([23]),)"
      ]
     },
     "execution_count": 13,
     "metadata": {},
     "output_type": "execute_result"
    }
   ],
   "source": [
    "np.where(energies == minimo)\n",
    "\n",
    "d_min = distances[23]\n",
    "\n",
    "print(d_min)"
   ]
  },
  {
   "cell_type": "markdown",
   "metadata": {},
   "source": [
    "## Practica inicial\n",
    "\n",
    "Durante esta parte intentaré llegar a una solución mas precisa que la anterior a modo de ir practicando las funciones y conocer mejor las librerias.\n",
    "\n",
    "Al resultado anterior d_min = 0.7300000000000002 la haré variar en un $\\pm 0,01$"
   ]
  },
  {
   "cell_type": "code",
   "execution_count": 15,
   "metadata": {},
   "outputs": [],
   "source": [
    "# primero estableceré las distancia que utilizaré\n",
    "\n",
    "distancias = np.arange(0.72, 0.74, 0.001) # la separaciòn entre las distancias serà de 0.001\n",
    "\n",
    "# ahora definiré las energias, pero como aún no conozco su valor las setearé todas en 0\n",
    "energias = np.zeros(len(distancias))\n",
    "\n",
    "#ahora resolveré el problema de optimización para cada distancia\n",
    "\n",
    "for i, d in enumerate(distancias): # lo que hace esto es que por cada valor de la distancia 'd' le asocia el número i\n",
    "    #primero debemos crear el problema\n",
    "    driver = PySCFDriver(atom= f'H 0 0 0 ; H 0 0 {d}') # esto génera la molecula y el atributo atom funiona de la siguiente manera: atom = 'name', x, y, z\n",
    "    problema = driver.run() # lo iniciamos \n",
    "    fermionic_op = problema.hamiltonian.second_q_op() #Acá pasamos el hamiltoniano del problema a la segunda cuantiazión, es decir, en la forma de op de creación y aniquilación\n",
    "\n",
    "    # Ahora debemos mappear de forma que sea legible para algorithmos cuanticos\n",
    "    mapper = JordanWignerMapper() # definimos nuestro mapeo, en este caso el de Jordan Wigner\n",
    "\n",
    "    sparse_pauli_ham = mapper.map(fermionic_op) # le aplicamos el mapeo a nuestra segunda cuantización del problema\n",
    "\n",
    "    init_state = HartreeFock(num_spatial_orbitals= problema.num_spatial_orbitals,\n",
    "            num_particles= problema.num_particles,\n",
    "            qubit_mapper= mapper)  # Acá utilizamos el estado inicial basado en el metodo de Hartree Fock\n",
    "    \n",
    "    # Ahora vamos a definir nuestro ansatz el cual está basado en el modelo nitary Coupled Cluster with Single and Double Excitations\n",
    "    #La clase UCCSD recibe parametros de la siguiente manera: UCCSD(num_exitaciones, num_particlas, mapeo, estado inicial)\n",
    "    \n",
    "    ansatz = UCCSD(2,\n",
    "                   problema.num_particles,\n",
    "                   mapper,\n",
    "                   initial_state=HartreeFock(problema.num_spatial_orbitals,\n",
    "                                             problema.num_particles,\n",
    "                                             mapper))\n",
    "    \n",
    "    # Ahora definimos el algoritmo que vamos a utilizar, es estè caso usaremos el Variational Quantum Eingensolver\n",
    "    # Este algoritmo busca el valor propio minimo o en otras palabras, el valor minimo de energia\n",
    "    # Estimator es una clase que se encarga de calcular el valor esperado del hamiltoniano\n",
    "    # en términos practicos, Estimator evalua como se comporta el hamiltoniano mapeado y entrega valores necesarios para la optimización\n",
    "    # SLSQP se refiere a Sequential Least Squares Quadratic Programming. Es un optimizador que ajusta los parámetros del ansatz de forma iterativa, buscando la configuración que minimiza la energía esperada.\n",
    "    vqe = VQE(Estimator(), ansatz, SLSQP())\n",
    "\n",
    "    # Ahora vamos a definir un puntpo inicial\n",
    "    initial_point = HFInitialPoint() # Clase que define el punto inicial\n",
    "    initial_point.ansatz = ansatz # El punto inicial debe ir acorde con el ansatz\n",
    "    initial_point.problem = problema # Tambien debe ir a corde con el problema, recordar que en problema hay informacion acerca del hamiltoniano\n",
    "    vqe.initial_point = initial_point.to_numpy_array() #seteamos el punto inicial del VQE como el punto incial que definimos anteriormente \n",
    "\n",
    "    # ahora si que si resolvemos el problema \n",
    "    # La clase GroundStateEigensolver es una clase que encapsula el proceso de encontrar el valor minimo de energia, recibe el mapeo y el VQE el cual contiene info sobre el anstaz y el punto inicial\n",
    "    solver = GroundStateEigensolver(mapper, vqe) \n",
    "    result = solver.solve(problema) # resolvemos\n",
    "\n",
    "    energias[i] = result.total_energies[0] #reemplazamos los valores de energìa en nuestra lista del principio\n"
   ]
  },
  {
   "cell_type": "code",
   "execution_count": 16,
   "metadata": {},
   "outputs": [
    {
     "data": {
      "text/plain": [
       "(array([15]),)"
      ]
     },
     "execution_count": 16,
     "metadata": {},
     "output_type": "execute_result"
    },
    {
     "data": {
      "image/png": "[encoded data removed]",
      "text/plain": [
       "<Figure size 640x480 with 1 Axes>"
      ]
     },
     "metadata": {},
     "output_type": "display_data"
    }
   ],
   "source": [
    "plt.scatter(distancias[:], energias[:])\n",
    "plt.plot(distancias[:], energias[:])\n",
    "\n",
    "minimo = np.min(energias)\n",
    "np.where(energias == minimo)"
   ]
  },
  {
   "cell_type": "code",
   "execution_count": 17,
   "metadata": {},
   "outputs": [
    {
     "name": "stdout",
     "output_type": "stream",
     "text": [
      "0.735\n",
      "epico\n"
     ]
    }
   ],
   "source": [
    "d_min = distancias[15]\n",
    "\n",
    "print(d_min)\n",
    "print('epico')"
   ]
  },
  {
   "cell_type": "markdown",
   "metadata": {},
   "source": [
    "## Parte 2: Litio - Hidrogeno\n",
    "\n",
    "En está parte intentaré descrubir como hacer la simulacion de la molecula Litio-Hidrogeno. En primer lugar replicaré un procedimiento similar al anterior e intentaré descrubir sobre la marcha como solucionar los problemas\n"
   ]
  },
  {
   "cell_type": "code",
   "execution_count": 18,
   "metadata": {},
   "outputs": [],
   "source": [
    "\n",
    "distancias = np.arange(0.25, 4, 0.25)\n",
    "\n",
    "energias = np.zeros(len(distancias))\n",
    "\n",
    "for i, d in enumerate(distancias): \n",
    "    \n",
    "    driver = PySCFDriver(atom= f'Li 0 0 0 ; H 0 0 {d}')\n",
    "    problema = driver.run()\n",
    "    fermionic_op = problema.hamiltonian.second_q_op()\n",
    "    mapper = JordanWignerMapper()\n",
    "\n",
    "    sparse_pauli_ham = mapper.map(fermionic_op)\n",
    "\n",
    "    init_state = HartreeFock(num_spatial_orbitals= problema.num_spatial_orbitals,\n",
    "            num_particles= problema.num_particles,\n",
    "            qubit_mapper= mapper) \n",
    "    ansatz = UCCSD(2,\n",
    "                   problema.num_particles,\n",
    "                   mapper,\n",
    "                   initial_state=HartreeFock(problema.num_spatial_orbitals,\n",
    "                                             problema.num_particles,\n",
    "                                             mapper))\n",
    "    \n",
    "    vqe = VQE(Estimator(), ansatz, SLSQP())\n",
    "\n",
    "    initial_point = HFInitialPoint()\n",
    "    initial_point.ansatz = ansatz\n",
    "    initial_point.problem = problema\n",
    "    #vqe.initial_point = initial_point.to_numpy_array()\n",
    "    #solver = GroundStateEigensolver(mapper, vqe) \n",
    "    #result = solver.solve(problema)\n",
    "\n",
    "    #energias[i] = result.total_energies[0] \n"
   ]
  },
  {
   "cell_type": "markdown",
   "metadata": {},
   "source": [
    "El primer problema que me encontre fue un error en definir el punto inicial. Realmente no se que es lo que falló pero analizando el codigo lo único que pudo haber fallado es el ansatz, enotnces empezaré por intentar solucionar eso\n",
    "\n",
    "EL codigo que viene a combinaciòn fue el resultado de muchos errores y de descubrir que en el repositorio de Herbert estaba este mismo ejercicio ya hecho"
   ]
  },
  {
   "cell_type": "code",
   "execution_count": 19,
   "metadata": {},
   "outputs": [
    {
     "name": "stdout",
     "output_type": "stream",
     "text": [
      "[1.5]\n"
     ]
    },
    {
     "data": {
      "image/png": "[encoded data removed]",
      "text/plain": [
       "<Figure size 640x480 with 1 Axes>"
      ]
     },
     "metadata": {},
     "output_type": "display_data"
    }
   ],
   "source": [
    "\n",
    "from qiskit_nature.second_q.transformers import FreezeCoreTransformer\n",
    "from qiskit_nature.second_q.mappers import ParityMapper\n",
    "\n",
    "distancias = np.arange(0.5, 4.25, 0.25)\n",
    "energias = np.zeros(len(distancias))\n",
    "\n",
    "for i, d in enumerate(distancias): \n",
    "    \n",
    "    # sto-3g es un tipo de base que usa 3 funciones gaussianas, entre mas  funciones gaussianas, mas preciso pero mas lento\n",
    "    driver = PySCFDriver(atom= f'Li 0 0 0; H 0 0 {d}', basis=\"sto-3g\") \n",
    "    problema = driver.run()\n",
    "\n",
    "    # FreezeCoreTransforme es una simplificación en donde se consideran que algunos orbitales estan congelados o inactivos\n",
    "    # En este caso se considera que los obitales 4 y 5 estan no activos\n",
    "    fc_transformer = FreezeCoreTransformer(remove_orbitals=[4, 5])\n",
    "\n",
    "    problem = fc_transformer.transform(problema) #aplicamos la congelación al problema\n",
    "\n",
    "        #Acà aplicamos otro mapeo distinto al de Jordan-winger, sin embargo tambien tiene como objetivo pasar de fermiones a qubit\n",
    "    mapper = ParityMapper(num_particles= (problem.num_alpha, problem.num_beta))\n",
    "\n",
    "\n",
    "        # Acà sigue todo igual\n",
    "    ansatz = UCCSD(problem.num_spatial_orbitals,\n",
    "                   problem.num_particles,\n",
    "                   mapper,\n",
    "                   initial_state=HartreeFock(\n",
    "                       problem.num_spatial_orbitals,\n",
    "                       problem.num_particles,\n",
    "                       mapper,),\n",
    "    )\n",
    "    vqe = VQE(Estimator(), ansatz, SLSQP())\n",
    "\n",
    "    initial_point = HFInitialPoint()\n",
    "    initial_point.ansatz = ansatz\n",
    "    initial_point.problem = problem\n",
    "    vqe.initial_point = initial_point.to_numpy_array()\n",
    "    solver = GroundStateEigensolver(mapper, vqe) \n",
    "    result = solver.solve(problem)\n",
    "\n",
    "    energias[i] = result.total_energies[0] \n",
    "\n",
    "plt.scatter(distancias[:], energias[:])\n",
    "plt.plot(distancias[:], energias[:])\n",
    "\n",
    "minimo = np.min(energias)\n",
    "numero = np.where(energias == minimo)\n",
    "d_min = distancias[numero]\n",
    "print(d_min)\n"
   ]
  },
  {
   "cell_type": "markdown",
   "metadata": {},
   "source": [
    "## Reaciones de isomerización\n",
    "\n",
    "Durante la siguiente secciòn intentarè abordar el tema de las reacciones de isomerización, para esto intentaré simular la molecula $C_4H_8$.\n"
   ]
  },
  {
   "cell_type": "code",
   "execution_count": 22,
   "metadata": {},
   "outputs": [
    {
     "name": "stdout",
     "output_type": "stream",
     "text": [
      "\n",
      "C\n",
      "C 1 1.34\n",
      "H 2 1.09 1 120.0\n",
      "H 2 1.09 1 120.0 3 180.0\n",
      "H 1 1.09 2 120.0\n",
      "H 1 1.09 2 120.0 4 180.0\n",
      "\n"
     ]
    },
    {
     "ename": "QiskitNatureError",
     "evalue": "'Failed to convert atom string: ;C;C 1 1.34;H 2 1.09 1 120.0;H 2 1.09 1 120.0 3 180.0;H 1 1.09 2 120.0;H 1 1.09 2 120.0 4 180.0;'",
     "output_type": "error",
     "traceback": [
      "\u001b[0;31m---------------------------------------------------------------------------\u001b[0m",
      "\u001b[0;31mValueError\u001b[0m                                Traceback (most recent call last)",
      "File \u001b[0;32m~/Escritorio/IPRE/qiskit-env/lib/python3.12/site-packages/qiskit_nature/second_q/drivers/pyscfd/pyscfdriver.py:451\u001b[0m, in \u001b[0;36mPySCFDriver._check_molecule_format\u001b[0;34m(val)\u001b[0m\n\u001b[1;32m    450\u001b[0m newval \u001b[38;5;241m=\u001b[39m []\n\u001b[0;32m--> 451\u001b[0m \u001b[38;5;28;01mfor\u001b[39;00m entry \u001b[38;5;129;01min\u001b[39;00m \u001b[43mgto\u001b[49m\u001b[38;5;241;43m.\u001b[39;49m\u001b[43mmole\u001b[49m\u001b[38;5;241;43m.\u001b[39;49m\u001b[43mfrom_zmatrix\u001b[49m\u001b[43m(\u001b[49m\u001b[43mval\u001b[49m\u001b[43m)\u001b[49m:\n\u001b[1;32m    452\u001b[0m     \u001b[38;5;28;01mif\u001b[39;00m entry[\u001b[38;5;241m0\u001b[39m]\u001b[38;5;241m.\u001b[39mupper() \u001b[38;5;241m!=\u001b[39m \u001b[38;5;124m\"\u001b[39m\u001b[38;5;124mX\u001b[39m\u001b[38;5;124m\"\u001b[39m:\n",
      "File \u001b[0;32m~/Escritorio/IPRE/qiskit-env/lib/python3.12/site-packages/pyscf/gto/mole.py:3881\u001b[0m, in \u001b[0;36mfrom_zmatrix\u001b[0;34m(atomstr)\u001b[0m\n\u001b[1;32m   3880\u001b[0m \u001b[38;5;28;01mif\u001b[39;00m \u001b[38;5;28mlen\u001b[39m(rawd) \u001b[38;5;241m<\u001b[39m min_items_per_line:\n\u001b[0;32m-> 3881\u001b[0m     \u001b[38;5;28;01mraise\u001b[39;00m \u001b[38;5;167;01mValueError\u001b[39;00m(\u001b[38;5;124m'\u001b[39m\u001b[38;5;124mZmatrix format error at L\u001b[39m\u001b[38;5;132;01m%d\u001b[39;00m\u001b[38;5;124m \u001b[39m\u001b[38;5;132;01m%s\u001b[39;00m\u001b[38;5;124m'\u001b[39m \u001b[38;5;241m%\u001b[39m (line_id, line))\n\u001b[1;32m   3883\u001b[0m symbols\u001b[38;5;241m.\u001b[39mappend(rawd[\u001b[38;5;241m0\u001b[39m])\n",
      "\u001b[0;31mValueError\u001b[0m: Zmatrix format error at L5 H 1 1.09 2 120.0",
      "\nThe above exception was the direct cause of the following exception:\n",
      "\u001b[0;31mQiskitNatureError\u001b[0m                         Traceback (most recent call last)",
      "Cell \u001b[0;32mIn[22], line 36\u001b[0m\n\u001b[1;32m     30\u001b[0m \u001b[38;5;28;01mfor\u001b[39;00m i, d \u001b[38;5;129;01min\u001b[39;00m \u001b[38;5;28menumerate\u001b[39m(distancias): \n\u001b[1;32m     31\u001b[0m     \n\u001b[1;32m     32\u001b[0m     \u001b[38;5;66;03m# Definir la molécula de 2-buteno cis/trans\u001b[39;00m\n\u001b[1;32m     35\u001b[0m     driver \u001b[38;5;241m=\u001b[39m PySCFDriver(atom\u001b[38;5;241m=\u001b[39mzmat, basis\u001b[38;5;241m=\u001b[39m\u001b[38;5;124m\"\u001b[39m\u001b[38;5;124msto-3g\u001b[39m\u001b[38;5;124m\"\u001b[39m)  \u001b[38;5;66;03m# Nota: esto es un ejemplo simplificado\u001b[39;00m\n\u001b[0;32m---> 36\u001b[0m     problema \u001b[38;5;241m=\u001b[39m \u001b[43mdriver\u001b[49m\u001b[38;5;241;43m.\u001b[39;49m\u001b[43mrun\u001b[49m\u001b[43m(\u001b[49m\u001b[43m)\u001b[49m\n\u001b[1;32m     38\u001b[0m     \u001b[38;5;66;03m# Aplicar transformación FreezeCore si es necesario\u001b[39;00m\n\u001b[1;32m     39\u001b[0m     fc_transformer \u001b[38;5;241m=\u001b[39m FreezeCoreTransformer()\n",
      "File \u001b[0;32m~/Escritorio/IPRE/qiskit-env/lib/python3.12/site-packages/qiskit_nature/second_q/drivers/pyscfd/pyscfdriver.py:370\u001b[0m, in \u001b[0;36mPySCFDriver.run\u001b[0;34m(self)\u001b[0m\n\u001b[1;32m    361\u001b[0m \u001b[38;5;28;01mdef\u001b[39;00m \u001b[38;5;21mrun\u001b[39m(\u001b[38;5;28mself\u001b[39m) \u001b[38;5;241m-\u001b[39m\u001b[38;5;241m>\u001b[39m ElectronicStructureProblem:\n\u001b[1;32m    362\u001b[0m \u001b[38;5;250m    \u001b[39m\u001b[38;5;124;03m\"\"\"Runs the driver to produce a result.\u001b[39;00m\n\u001b[1;32m    363\u001b[0m \n\u001b[1;32m    364\u001b[0m \u001b[38;5;124;03m    Returns:\u001b[39;00m\n\u001b[0;32m   (...)\u001b[0m\n\u001b[1;32m    368\u001b[0m \u001b[38;5;124;03m        QiskitNatureError: if an error during the PySCF setup or calculation occurred.\u001b[39;00m\n\u001b[1;32m    369\u001b[0m \u001b[38;5;124;03m    \"\"\"\u001b[39;00m\n\u001b[0;32m--> 370\u001b[0m     \u001b[38;5;28;43mself\u001b[39;49m\u001b[38;5;241;43m.\u001b[39;49m\u001b[43mrun_pyscf\u001b[49m\u001b[43m(\u001b[49m\u001b[43m)\u001b[49m\n\u001b[1;32m    371\u001b[0m     \u001b[38;5;28;01mreturn\u001b[39;00m \u001b[38;5;28mself\u001b[39m\u001b[38;5;241m.\u001b[39mto_problem()\n",
      "File \u001b[0;32m~/Escritorio/IPRE/qiskit-env/lib/python3.12/site-packages/qiskit_nature/second_q/drivers/pyscfd/pyscfdriver.py:469\u001b[0m, in \u001b[0;36mPySCFDriver.run_pyscf\u001b[0;34m(self)\u001b[0m\n\u001b[1;32m    460\u001b[0m \u001b[38;5;28;01mdef\u001b[39;00m \u001b[38;5;21mrun_pyscf\u001b[39m(\u001b[38;5;28mself\u001b[39m) \u001b[38;5;241m-\u001b[39m\u001b[38;5;241m>\u001b[39m \u001b[38;5;28;01mNone\u001b[39;00m:\n\u001b[1;32m    461\u001b[0m \u001b[38;5;250m    \u001b[39m\u001b[38;5;124;03m\"\"\"Runs the PySCF calculation.\u001b[39;00m\n\u001b[1;32m    462\u001b[0m \n\u001b[1;32m    463\u001b[0m \u001b[38;5;124;03m    This method is part of the public interface to allow the user to easily overwrite it in a\u001b[39;00m\n\u001b[0;32m   (...)\u001b[0m\n\u001b[1;32m    467\u001b[0m \u001b[38;5;124;03m        QiskitNatureError: If an invalid HF method type was supplied.\u001b[39;00m\n\u001b[1;32m    468\u001b[0m \u001b[38;5;124;03m    \"\"\"\u001b[39;00m\n\u001b[0;32m--> 469\u001b[0m     \u001b[38;5;28;43mself\u001b[39;49m\u001b[38;5;241;43m.\u001b[39;49m\u001b[43m_build_molecule\u001b[49m\u001b[43m(\u001b[49m\u001b[43m)\u001b[49m\n\u001b[1;32m    471\u001b[0m     \u001b[38;5;66;03m# pylint: disable=import-error\u001b[39;00m\n\u001b[1;32m    472\u001b[0m     \u001b[38;5;28;01mfrom\u001b[39;00m \u001b[38;5;21;01mpyscf\u001b[39;00m \u001b[38;5;28;01mimport\u001b[39;00m dft, scf\n",
      "File \u001b[0;32m~/Escritorio/IPRE/qiskit-env/lib/python3.12/site-packages/qiskit_nature/second_q/drivers/pyscfd/pyscfdriver.py:388\u001b[0m, in \u001b[0;36mPySCFDriver._build_molecule\u001b[0;34m(self)\u001b[0m\n\u001b[1;32m    385\u001b[0m \u001b[38;5;28;01mfrom\u001b[39;00m \u001b[38;5;21;01mpyscf\u001b[39;00m\u001b[38;5;21;01m.\u001b[39;00m\u001b[38;5;21;01mlib\u001b[39;00m \u001b[38;5;28;01mimport\u001b[39;00m logger \u001b[38;5;28;01mas\u001b[39;00m pylogger\n\u001b[1;32m    386\u001b[0m \u001b[38;5;28;01mfrom\u001b[39;00m \u001b[38;5;21;01mpyscf\u001b[39;00m\u001b[38;5;21;01m.\u001b[39;00m\u001b[38;5;21;01mlib\u001b[39;00m \u001b[38;5;28;01mimport\u001b[39;00m param\n\u001b[0;32m--> 388\u001b[0m atom \u001b[38;5;241m=\u001b[39m \u001b[38;5;28;43mself\u001b[39;49m\u001b[38;5;241;43m.\u001b[39;49m\u001b[43m_check_molecule_format\u001b[49m\u001b[43m(\u001b[49m\u001b[38;5;28;43mself\u001b[39;49m\u001b[38;5;241;43m.\u001b[39;49m\u001b[43matom\u001b[49m\u001b[43m)\u001b[49m\n\u001b[1;32m    389\u001b[0m \u001b[38;5;28;01mif\u001b[39;00m \u001b[38;5;28mself\u001b[39m\u001b[38;5;241m.\u001b[39m_max_memory \u001b[38;5;129;01mis\u001b[39;00m \u001b[38;5;28;01mNone\u001b[39;00m:\n\u001b[1;32m    390\u001b[0m     \u001b[38;5;28mself\u001b[39m\u001b[38;5;241m.\u001b[39m_max_memory \u001b[38;5;241m=\u001b[39m param\u001b[38;5;241m.\u001b[39mMAX_MEMORY\n",
      "File \u001b[0;32m~/Escritorio/IPRE/qiskit-env/lib/python3.12/site-packages/qiskit_nature/second_q/drivers/pyscfd/pyscfdriver.py:456\u001b[0m, in \u001b[0;36mPySCFDriver._check_molecule_format\u001b[0;34m(val)\u001b[0m\n\u001b[1;32m    454\u001b[0m         \u001b[38;5;28;01mreturn\u001b[39;00m newval\n\u001b[1;32m    455\u001b[0m     \u001b[38;5;28;01mexcept\u001b[39;00m \u001b[38;5;167;01mException\u001b[39;00m \u001b[38;5;28;01mas\u001b[39;00m exc:\n\u001b[0;32m--> 456\u001b[0m         \u001b[38;5;28;01mraise\u001b[39;00m QiskitNatureError(\u001b[38;5;124m\"\u001b[39m\u001b[38;5;124mFailed to convert atom string: \u001b[39m\u001b[38;5;124m\"\u001b[39m \u001b[38;5;241m+\u001b[39m val) \u001b[38;5;28;01mfrom\u001b[39;00m \u001b[38;5;21;01mexc\u001b[39;00m\n\u001b[1;32m    458\u001b[0m \u001b[38;5;28;01mreturn\u001b[39;00m val\n",
      "\u001b[0;31mQiskitNatureError\u001b[0m: 'Failed to convert atom string: ;C;C 1 1.34;H 2 1.09 1 120.0;H 2 1.09 1 120.0 3 180.0;H 1 1.09 2 120.0;H 1 1.09 2 120.0 4 180.0;'"
     ]
    }
   ],
   "source": [
    "from qiskit_nature.second_q.drivers import PySCFDriver\n",
    "from qiskit_nature.second_q.transformers import FreezeCoreTransformer\n",
    "from qiskit_nature.second_q.mappers import JordanWignerMapper\n",
    "from qiskit_nature.second_q.circuit.library import UCCSD, HartreeFock\n",
    "from qiskit_algorithms import VQE\n",
    "from qiskit_algorithms.optimizers import SLSQP\n",
    "from qiskit_nature.second_q.algorithms import GroundStateEigensolver\n",
    "from qiskit import  QuantumCircuit, transpile\n",
    "import numpy as np\n",
    "import matplotlib.pyplot as plt\n",
    "from pycsf\n",
    "\n",
    "# Definir las distancias para el isómero\n",
    "distancias = np.arange(0.5, 4.25, 0.25)\n",
    "energias = np.zeros(len(distancias))\n",
    "# Z-matrix for 2-butene (C4H8)\n",
    "\n",
    "zmat = \"\"\"\n",
    "C\n",
    "C 1 1.34\n",
    "H 2 1.09 1 120.0\n",
    "H 2 1.09 1 120.0 3 180.0\n",
    "H 1 1.09 2 120.0\n",
    "H 1 1.09 2 120.0 4 180.0\n",
    "\"\"\"\n",
    "\n",
    "# Print the Z-matrix\n",
    "print(zmat)\n",
    "\n",
    "\n",
    "for i, d in enumerate(distancias): \n",
    "    \n",
    "    # Definir la molécula de 2-buteno cis/trans\n",
    "    \n",
    "    \n",
    "    driver = PySCFDriver(atom=zmat, basis=\"sto-3g\")  # Nota: esto es un ejemplo simplificado\n",
    "    problema = driver.run()\n",
    "    \n",
    "    # Aplicar transformación FreezeCore si es necesario\n",
    "    fc_transformer = FreezeCoreTransformer()\n",
    "    problema = fc_transformer.transform(problema)\n",
    "    \n",
    "    # Mapeo de los operadores a qubits\n",
    "    mapper = JordanWignerMapper()\n",
    "    sparse_pauli_ham = mapper.map(problema.hamiltonian.second_q_op())\n",
    "    \n",
    "    # Definir el ansatz UCCSD\n",
    "    ansatz = UCCSD(\n",
    "        num_spatial_orbitals=problema.num_spatial_orbitals,\n",
    "        num_particles=problema.num_particles,\n",
    "        qubit_mapper=mapper\n",
    "    )\n",
    "    \n",
    "    # Configurar el VQE\n",
    "    vqe = VQE(ansatz, optimizer=SLSQP())\n",
    "    \n",
    "    # Resolver el problema\n",
    "    solver = GroundStateEigensolver(mapper, vqe)\n",
    "    result = solver.solve(problema)\n",
    "    \n",
    "    # Almacenar la energía total\n",
    "    energias[i] = result.total_energies[0] \n",
    "\n",
    "# Graficar los resultados\n",
    "plt.scatter(distancias, energias)\n",
    "plt.plot(distancias, energias)\n",
    "plt.xlabel('Distancia (Å)')\n",
    "plt.ylabel('Energía (Hartree)')\n",
    "plt.title('Energía del 2-Buteno en función de la distancia')\n",
    "plt.show()\n"
   ]
  }
 ],
 "metadata": {
  "kernelspec": {
   "display_name": "Python 3",
   "language": "python",
   "name": "python3"
  },
  "language_info": {
   "codemirror_mode": {
    "name": "ipython",
    "version": 3
   },
   "file_extension": ".py",
   "mimetype": "text/x-python",
   "name": "python",
   "nbconvert_exporter": "python",
   "pygments_lexer": "ipython3",
   "version": "3.12.3"
  }
 },
 "nbformat": 4,
 "nbformat_minor": 2
}
